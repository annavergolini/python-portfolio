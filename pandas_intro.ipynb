{
 "cells": [
  {
   "cell_type": "markdown",
   "id": "3703dcf1-e576-4f74-9796-aaab456d1789",
   "metadata": {},
   "source": []
  },
  {
   "cell_type": "code",
   "execution_count": 39,
   "id": "98bfd768-cf54-4a2e-9650-f67194eff6a3",
   "metadata": {},
   "outputs": [],
   "source": [
    "import pandas as pd"
   ]
  },
  {
   "cell_type": "markdown",
   "id": "b5636b5f-891e-4a81-a837-56791a743273",
   "metadata": {},
   "source": []
  },
  {
   "cell_type": "code",
   "execution_count": 17,
   "id": "6944bc21-87f9-434a-9e42-675ed4af8e29",
   "metadata": {},
   "outputs": [],
   "source": [
    "student_data = [[1,15],[2,11],[3,11],[4,20]]"
   ]
  },
  {
   "cell_type": "code",
   "execution_count": 21,
   "id": "61b7dc72-45b9-4302-acdf-fa13d1530aa5",
   "metadata": {},
   "outputs": [
    {
     "data": {
      "text/plain": [
       "list"
      ]
     },
     "execution_count": 21,
     "metadata": {},
     "output_type": "execute_result"
    }
   ],
   "source": [
    "type(student_data)"
   ]
  },
  {
   "cell_type": "code",
   "execution_count": 56,
   "id": "673adf8e-3119-4894-8dcc-2c486426ff47",
   "metadata": {},
   "outputs": [],
   "source": [
    "columns = ['student_id','age']"
   ]
  },
  {
   "cell_type": "code",
   "execution_count": 25,
   "id": "f67bb31d-9fda-476a-818c-3bb1cacaaf27",
   "metadata": {},
   "outputs": [
    {
     "data": {
      "text/plain": [
       "list"
      ]
     },
     "execution_count": 25,
     "metadata": {},
     "output_type": "execute_result"
    }
   ],
   "source": [
    "type(columns)"
   ]
  },
  {
   "cell_type": "code",
   "execution_count": 27,
   "id": "ea63f4be-e6f2-4b3c-a23c-c43b87d12fce",
   "metadata": {},
   "outputs": [],
   "source": [
    "student = pd.DataFrame(data=student_data, columns=columns)"
   ]
  },
  {
   "cell_type": "code",
   "execution_count": 31,
   "id": "0134392e-b0ed-45b4-b308-dc6698990741",
   "metadata": {},
   "outputs": [
    {
     "data": {
      "text/html": [
       "<div>\n",
       "<style scoped>\n",
       "    .dataframe tbody tr th:only-of-type {\n",
       "        vertical-align: middle;\n",
       "    }\n",
       "\n",
       "    .dataframe tbody tr th {\n",
       "        vertical-align: top;\n",
       "    }\n",
       "\n",
       "    .dataframe thead th {\n",
       "        text-align: right;\n",
       "    }\n",
       "</style>\n",
       "<table border=\"1\" class=\"dataframe\">\n",
       "  <thead>\n",
       "    <tr style=\"text-align: right;\">\n",
       "      <th></th>\n",
       "      <th>student_id</th>\n",
       "      <th>age</th>\n",
       "    </tr>\n",
       "  </thead>\n",
       "  <tbody>\n",
       "    <tr>\n",
       "      <th>0</th>\n",
       "      <td>1</td>\n",
       "      <td>15</td>\n",
       "    </tr>\n",
       "    <tr>\n",
       "      <th>1</th>\n",
       "      <td>2</td>\n",
       "      <td>11</td>\n",
       "    </tr>\n",
       "    <tr>\n",
       "      <th>2</th>\n",
       "      <td>3</td>\n",
       "      <td>11</td>\n",
       "    </tr>\n",
       "    <tr>\n",
       "      <th>3</th>\n",
       "      <td>4</td>\n",
       "      <td>20</td>\n",
       "    </tr>\n",
       "  </tbody>\n",
       "</table>\n",
       "</div>"
      ],
      "text/plain": [
       "   student_id  age\n",
       "0           1   15\n",
       "1           2   11\n",
       "2           3   11\n",
       "3           4   20"
      ]
     },
     "execution_count": 31,
     "metadata": {},
     "output_type": "execute_result"
    }
   ],
   "source": [
    "student"
   ]
  },
  {
   "cell_type": "markdown",
   "id": "b5aa6def-c8b3-4079-9b93-241e0e86d110",
   "metadata": {},
   "source": [
    "## We're now going to count how many rows and columns our dataset has..."
   ]
  },
  {
   "cell_type": "code",
   "execution_count": 42,
   "id": "708ebf22-a04d-49ef-9a4e-7c4f5acd093f",
   "metadata": {},
   "outputs": [],
   "source": [
    "rows = len(student) # len is a function that returns the # length of what's inside"
   ]
  },
  {
   "cell_type": "code",
   "execution_count": 44,
   "id": "fc05233a-2e62-4f33-b01b-9b32e224da83",
   "metadata": {},
   "outputs": [
    {
     "name": "stdout",
     "output_type": "stream",
     "text": [
      "The student dataset has 4 rows\n"
     ]
    }
   ],
   "source": [
    "print(f\"The student dataset has {rows} rows\")"
   ]
  },
  {
   "cell_type": "code",
   "execution_count": 46,
   "id": "88085cc3-4ba0-4f59-8114-b77f1cd6b2a7",
   "metadata": {},
   "outputs": [
    {
     "data": {
      "text/plain": [
       "pandas.core.frame.DataFrame"
      ]
     },
     "execution_count": 46,
     "metadata": {},
     "output_type": "execute_result"
    }
   ],
   "source": [
    "type(student)"
   ]
  },
  {
   "cell_type": "code",
   "execution_count": 60,
   "id": "536a154a-3d65-484f-9553-a006b16bc497",
   "metadata": {},
   "outputs": [],
   "source": [
    "student_columns = len(student.columns)"
   ]
  },
  {
   "cell_type": "code",
   "execution_count": 62,
   "id": "df0a279a-838a-448b-9b44-7cb7b6f39ab7",
   "metadata": {},
   "outputs": [
    {
     "name": "stdout",
     "output_type": "stream",
     "text": [
      "The student dataset has 2 columns\n"
     ]
    }
   ],
   "source": [
    "print(f\"The student dataset has {student_columns} columns\")"
   ]
  },
  {
   "cell_type": "markdown",
   "id": "ac21247f-fbdf-442d-ba09-ddf9fdfdcf33",
   "metadata": {},
   "source": [
    "## Checkpoint\n",
    "1. We imported pandas\n",
    "2. We created a student dataset\n",
    "3. We counted how many rows and columns are in the students dataset"
   ]
  },
  {
   "cell_type": "markdown",
   "id": "25a550df-b5ed-4391-9379-2d3f4471b1e2",
   "metadata": {},
   "source": [
    "# Print out the first 3 rows of the student dataframe"
   ]
  },
  {
   "cell_type": "markdown",
   "id": "663e155f-f4c1-4d0a-845b-ce3b261fc6c9",
   "metadata": {},
   "source": [
    "Pandas has a function called '.head(x)' which prints out the first x rows of your DataFrame"
   ]
  },
  {
   "cell_type": "code",
   "execution_count": 76,
   "id": "84670873-f8cc-4809-aa08-6fc21f648326",
   "metadata": {},
   "outputs": [
    {
     "data": {
      "text/html": [
       "<div>\n",
       "<style scoped>\n",
       "    .dataframe tbody tr th:only-of-type {\n",
       "        vertical-align: middle;\n",
       "    }\n",
       "\n",
       "    .dataframe tbody tr th {\n",
       "        vertical-align: top;\n",
       "    }\n",
       "\n",
       "    .dataframe thead th {\n",
       "        text-align: right;\n",
       "    }\n",
       "</style>\n",
       "<table border=\"1\" class=\"dataframe\">\n",
       "  <thead>\n",
       "    <tr style=\"text-align: right;\">\n",
       "      <th></th>\n",
       "      <th>student_id</th>\n",
       "      <th>age</th>\n",
       "    </tr>\n",
       "  </thead>\n",
       "  <tbody>\n",
       "    <tr>\n",
       "      <th>0</th>\n",
       "      <td>1</td>\n",
       "      <td>15</td>\n",
       "    </tr>\n",
       "    <tr>\n",
       "      <th>1</th>\n",
       "      <td>2</td>\n",
       "      <td>11</td>\n",
       "    </tr>\n",
       "    <tr>\n",
       "      <th>2</th>\n",
       "      <td>3</td>\n",
       "      <td>11</td>\n",
       "    </tr>\n",
       "  </tbody>\n",
       "</table>\n",
       "</div>"
      ],
      "text/plain": [
       "   student_id  age\n",
       "0           1   15\n",
       "1           2   11\n",
       "2           3   11"
      ]
     },
     "execution_count": 76,
     "metadata": {},
     "output_type": "execute_result"
    }
   ],
   "source": [
    "student.head(3)"
   ]
  },
  {
   "cell_type": "markdown",
   "id": "18508e01-731c-46dd-a1a6-9a25d403de74",
   "metadata": {},
   "source": [
    "for seeing the last x amount of rows you can use '.tail(x)'"
   ]
  },
  {
   "cell_type": "code",
   "execution_count": 79,
   "id": "f3fc774d-e8bb-4e71-a881-b843938ed924",
   "metadata": {},
   "outputs": [
    {
     "data": {
      "text/html": [
       "<div>\n",
       "<style scoped>\n",
       "    .dataframe tbody tr th:only-of-type {\n",
       "        vertical-align: middle;\n",
       "    }\n",
       "\n",
       "    .dataframe tbody tr th {\n",
       "        vertical-align: top;\n",
       "    }\n",
       "\n",
       "    .dataframe thead th {\n",
       "        text-align: right;\n",
       "    }\n",
       "</style>\n",
       "<table border=\"1\" class=\"dataframe\">\n",
       "  <thead>\n",
       "    <tr style=\"text-align: right;\">\n",
       "      <th></th>\n",
       "      <th>student_id</th>\n",
       "      <th>age</th>\n",
       "    </tr>\n",
       "  </thead>\n",
       "  <tbody>\n",
       "    <tr>\n",
       "      <th>2</th>\n",
       "      <td>3</td>\n",
       "      <td>11</td>\n",
       "    </tr>\n",
       "    <tr>\n",
       "      <th>3</th>\n",
       "      <td>4</td>\n",
       "      <td>20</td>\n",
       "    </tr>\n",
       "  </tbody>\n",
       "</table>\n",
       "</div>"
      ],
      "text/plain": [
       "   student_id  age\n",
       "2           3   11\n",
       "3           4   20"
      ]
     },
     "execution_count": 79,
     "metadata": {},
     "output_type": "execute_result"
    }
   ],
   "source": [
    "student.tail(2)"
   ]
  },
  {
   "cell_type": "markdown",
   "id": "dea6e59b-d8cf-4e26-9c97-cdf9433123e0",
   "metadata": {},
   "source": [
    "There is another way to print the first \"x\" rows using Python. We can use a technique called slicing where we provide the starting row and the ending row in square brackets, separated by a colan \n",
    "**Example:** [1:3] would just include the 1st and 3nd row, not the 3rd"
   ]
  },
  {
   "cell_type": "code",
   "execution_count": 82,
   "id": "3fe60906-95cc-40d4-ad75-b609d855d71d",
   "metadata": {},
   "outputs": [
    {
     "data": {
      "text/html": [
       "<div>\n",
       "<style scoped>\n",
       "    .dataframe tbody tr th:only-of-type {\n",
       "        vertical-align: middle;\n",
       "    }\n",
       "\n",
       "    .dataframe tbody tr th {\n",
       "        vertical-align: top;\n",
       "    }\n",
       "\n",
       "    .dataframe thead th {\n",
       "        text-align: right;\n",
       "    }\n",
       "</style>\n",
       "<table border=\"1\" class=\"dataframe\">\n",
       "  <thead>\n",
       "    <tr style=\"text-align: right;\">\n",
       "      <th></th>\n",
       "      <th>student_id</th>\n",
       "      <th>age</th>\n",
       "    </tr>\n",
       "  </thead>\n",
       "  <tbody>\n",
       "    <tr>\n",
       "      <th>1</th>\n",
       "      <td>2</td>\n",
       "      <td>11</td>\n",
       "    </tr>\n",
       "    <tr>\n",
       "      <th>0</th>\n",
       "      <td>1</td>\n",
       "      <td>15</td>\n",
       "    </tr>\n",
       "    <tr>\n",
       "      <th>2</th>\n",
       "      <td>3</td>\n",
       "      <td>11</td>\n",
       "    </tr>\n",
       "  </tbody>\n",
       "</table>\n",
       "</div>"
      ],
      "text/plain": [
       "   student_id  age\n",
       "1           2   11\n",
       "0           1   15\n",
       "2           3   11"
      ]
     },
     "execution_count": 82,
     "metadata": {},
     "output_type": "execute_result"
    }
   ],
   "source": [
    "student.sample(3)"
   ]
  },
  {
   "cell_type": "markdown",
   "id": "5bcfa1dc-79ee-40d4-82a3-4c96fb916ddd",
   "metadata": {},
   "source": [
    "for using a random x amount of exaples you can use .sample(x)"
   ]
  },
  {
   "cell_type": "code",
   "execution_count": null,
   "id": "e65a8cc7-510a-43e1-88b2-e16e4110499d",
   "metadata": {},
   "outputs": [],
   "source": []
  }
 ],
 "metadata": {
  "kernelspec": {
   "display_name": "Python 3 (ipykernel)",
   "language": "python",
   "name": "python3"
  },
  "language_info": {
   "codemirror_mode": {
    "name": "ipython",
    "version": 3
   },
   "file_extension": ".py",
   "mimetype": "text/x-python",
   "name": "python",
   "nbconvert_exporter": "python",
   "pygments_lexer": "ipython3",
   "version": "3.12.4"
  }
 },
 "nbformat": 4,
 "nbformat_minor": 5
}
