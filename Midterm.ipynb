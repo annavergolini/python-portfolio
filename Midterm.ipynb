{
 "cells": [
  {
   "cell_type": "code",
   "execution_count": 94,
   "id": "55a367cc-090d-43a1-a846-e9585dbf5c3d",
   "metadata": {},
   "outputs": [],
   "source": [
    "import pandas as pd\n",
    "df = pd.read_csv('scores.csv', dtype={'Borough': str})"
   ]
  },
  {
   "cell_type": "code",
   "execution_count": 87,
   "id": "56d437b4-f286-49ef-aed0-6a3231de8d8d",
   "metadata": {},
   "outputs": [
    {
     "name": "stdout",
     "output_type": "stream",
     "text": [
      "    School ID                                        School Name    Borough  \\\n",
      "0      02M260                 Clinton School Writers and Artists  Manhattan   \n",
      "1      06M211  Inwood Early College for Health and Informatio...  Manhattan   \n",
      "2      01M539  New Explorations into Science, Technology and ...  Manhattan   \n",
      "3      02M294                               Essex Street Academy  Manhattan   \n",
      "4      02M308                       Lower Manhattan Arts Academy  Manhattan   \n",
      "..        ...                                                ...        ...   \n",
      "430    27Q302  Queens High School for Information, Research, ...     Queens   \n",
      "431    27Q324  Rockaway Park High School for Environmental Su...     Queens   \n",
      "432    27Q262                   Channel View School for Research     Queens   \n",
      "433    27Q351                    Rockaway Collegiate High School     Queens   \n",
      "434    27Q323                                  Scholars' Academy     Queens   \n",
      "\n",
      "    Building Code              Street Address           City State  Zip Code  \\\n",
      "0            M933        425 West 33rd Street      Manhattan    NY     10001   \n",
      "1            M052          650 Academy Street      Manhattan    NY     10002   \n",
      "2            M022         111 Columbia Street      Manhattan    NY     10002   \n",
      "3            M445            350 Grand Street      Manhattan    NY     10002   \n",
      "4            M445            350 Grand Street      Manhattan    NY     10002   \n",
      "..            ...                         ...            ...   ...       ...   \n",
      "430          Q465        8-21 Bay 25th Street   Far Rockaway    NY     11691   \n",
      "431          Q410  100-00 Beach Channel Drive  Rockaway Park    NY     11694   \n",
      "432          Q410  100-00 Beach Channel Drive  Rockaway Park    NY     11694   \n",
      "433          Q410  100-00 Beach Channel Drive  Rockaway Park    NY     11694   \n",
      "434          Q180      320 Beach 104th Street  Rockaway Park    NY     11694   \n",
      "\n",
      "     Latitude  Longitude  ... End Time Student Enrollment Percent White  \\\n",
      "0    40.75321  -73.99786  ...      NaN                NaN           NaN   \n",
      "1    40.86605  -73.92486  ...  3:00 PM               87.0          3.4%   \n",
      "2    40.71873  -73.97943  ...  4:00 PM             1735.0         28.6%   \n",
      "3    40.71687  -73.98953  ...  2:45 PM              358.0         11.7%   \n",
      "4    40.71687  -73.98953  ...  3:00 PM              383.0          3.1%   \n",
      "..        ...        ...  ...      ...                ...           ...   \n",
      "430  40.60199  -73.76283  ...  4:10 PM              381.0          2.1%   \n",
      "431  40.58601  -73.82309  ...  3:30 PM              368.0         14.7%   \n",
      "432  40.58601  -73.82309  ...  3:04 PM              683.0         10.7%   \n",
      "433  40.58601  -73.82309  ...  4:20 PM              397.0          3.8%   \n",
      "434  40.58413  -73.82568  ...  3:00 PM             1302.0         34.7%   \n",
      "\n",
      "     Percent Black Percent Hispanic Percent Asian Average Score (SAT Math)  \\\n",
      "0              NaN              NaN           NaN                      NaN   \n",
      "1            21.8%            67.8%          4.6%                      NaN   \n",
      "2            13.3%            18.0%         38.5%                    657.0   \n",
      "3            38.5%            41.3%          5.9%                    395.0   \n",
      "4            28.2%            56.9%          8.6%                    418.0   \n",
      "..             ...              ...           ...                      ...   \n",
      "430          49.1%            43.6%          4.2%                    372.0   \n",
      "431          46.7%            30.2%          3.5%                    357.0   \n",
      "432          53.2%            29.1%          6.0%                    427.0   \n",
      "433          52.6%            33.5%          5.0%                    399.0   \n",
      "434          22.7%            19.6%         21.4%                    588.0   \n",
      "\n",
      "    Average Score (SAT Reading)  Average Score (SAT Writing)  Percent Tested  \n",
      "0                           NaN                          NaN             NaN  \n",
      "1                           NaN                          NaN             NaN  \n",
      "2                         601.0                        601.0           91.0%  \n",
      "3                         411.0                        387.0           78.9%  \n",
      "4                         428.0                        415.0           65.1%  \n",
      "..                          ...                          ...             ...  \n",
      "430                       362.0                        352.0           44.6%  \n",
      "431                       381.0                        376.0           38.5%  \n",
      "432                       430.0                        423.0           76.6%  \n",
      "433                       403.0                        405.0           46.5%  \n",
      "434                       560.0                        568.0           99.2%  \n",
      "\n",
      "[435 rows x 22 columns]\n"
     ]
    }
   ],
   "source": [
    "print(df)"
   ]
  },
  {
   "cell_type": "code",
   "execution_count": 91,
   "id": "59e11ce8-bdd0-49e1-ac19-febf93feaab0",
   "metadata": {},
   "outputs": [
    {
     "name": "stdout",
     "output_type": "stream",
     "text": [
      "  School ID                                        School Name    Borough  \\\n",
      "0    02M260                 Clinton School Writers and Artists  Manhattan   \n",
      "1    06M211  Inwood Early College for Health and Informatio...  Manhattan   \n",
      "2    01M539  New Explorations into Science, Technology and ...  Manhattan   \n",
      "3    02M294                               Essex Street Academy  Manhattan   \n",
      "4    02M308                       Lower Manhattan Arts Academy  Manhattan   \n",
      "\n",
      "  Building Code        Street Address       City State  Zip Code  Latitude  \\\n",
      "0          M933  425 West 33rd Street  Manhattan    NY     10001  40.75321   \n",
      "1          M052    650 Academy Street  Manhattan    NY     10002  40.86605   \n",
      "2          M022   111 Columbia Street  Manhattan    NY     10002  40.71873   \n",
      "3          M445      350 Grand Street  Manhattan    NY     10002  40.71687   \n",
      "4          M445      350 Grand Street  Manhattan    NY     10002  40.71687   \n",
      "\n",
      "   Longitude  ... End Time Student Enrollment Percent White  Percent Black  \\\n",
      "0  -73.99786  ...      NaN                NaN           NaN            NaN   \n",
      "1  -73.92486  ...  3:00 PM               87.0          3.4%          21.8%   \n",
      "2  -73.97943  ...  4:00 PM             1735.0         28.6%          13.3%   \n",
      "3  -73.98953  ...  2:45 PM              358.0         11.7%          38.5%   \n",
      "4  -73.98953  ...  3:00 PM              383.0          3.1%          28.2%   \n",
      "\n",
      "  Percent Hispanic Percent Asian Average Score (SAT Math)  \\\n",
      "0              NaN           NaN                      NaN   \n",
      "1            67.8%          4.6%                      NaN   \n",
      "2            18.0%         38.5%                    657.0   \n",
      "3            41.3%          5.9%                    395.0   \n",
      "4            56.9%          8.6%                    418.0   \n",
      "\n",
      "  Average Score (SAT Reading)  Average Score (SAT Writing)  Percent Tested  \n",
      "0                         NaN                          NaN             NaN  \n",
      "1                         NaN                          NaN             NaN  \n",
      "2                       601.0                        601.0           91.0%  \n",
      "3                       411.0                        387.0           78.9%  \n",
      "4                       428.0                        415.0           65.1%  \n",
      "\n",
      "[5 rows x 22 columns]\n",
      "['Manhattan' 'Staten Island' 'Bronx' 'Queens' 'Brooklyn']\n"
     ]
    }
   ],
   "source": [
    "print(df.head())\n",
    "print(df['Borough'].unique())"
   ]
  },
  {
   "cell_type": "code",
   "execution_count": 71,
   "id": "803ceb7e-ea32-4c08-8b99-daba46c224ca",
   "metadata": {},
   "outputs": [
    {
     "data": {
      "text/plain": [
       "Index(['School ID', 'School Name', 'Borough', 'Building Code',\n",
       "       'Street Address', 'City', 'State', 'Zip Code', 'Latitude', 'Longitude',\n",
       "       'Phone Number', 'Start Time', 'End Time', 'Student Enrollment',\n",
       "       'Percent White', 'Percent Black', 'Percent Hispanic', 'Percent Asian',\n",
       "       'Average Score (SAT Math)', 'Average Score (SAT Reading)',\n",
       "       'Average Score (SAT Writing)', 'Percent Tested'],\n",
       "      dtype='object')"
      ]
     },
     "execution_count": 71,
     "metadata": {},
     "output_type": "execute_result"
    }
   ],
   "source": [
    "df.columns"
   ]
  },
  {
   "cell_type": "code",
   "execution_count": 102,
   "id": "183f81e5-df92-4d8b-b8eb-ed854f82757f",
   "metadata": {},
   "outputs": [
    {
     "data": {
      "image/png": "[encoded data removed]",
      "text/plain": [
       "<Figure size 1000x600 with 1 Axes>"
      ]
     },
     "metadata": {},
     "output_type": "display_data"
    }
   ],
   "source": [
    "import pandas as pd\n",
    "import matplotlib.pyplot as plt\n",
    "data = {\n",
    "    'Borough': [\n",
    "        'Manhattan', 'Manhattan', 'Manhattan', 'Manhattan', 'Manhattan', \n",
    "        'Brooklyn', 'Brooklyn', 'Brooklyn', 'Brooklyn', \n",
    "        'Bronx', 'Bronx', 'Bronx', 'Bronx', \n",
    "        'Queens', 'Queens', 'Queens', 'Queens'\n",
    "    ],\n",
    "    'Average Score (SAT Math)': [\n",
    "        600, 620, 657, 395, 418, \n",
    "        500, 550, 488, 372, \n",
    "        488, 469, 495, 493, \n",
    "        600, 610, 601, 600  \n",
    "    ],\n",
    "    'Average Score (SAT Reading)': [\n",
    "        601, 610, 601, 411, 428, \n",
    "        480, 490, 482, 362, \n",
    "        482, 479, 474, 486, \n",
    "        600, 610, 601, 600 \n",
    "    ],\n",
    "    'Average Score (SAT Writing)': [\n",
    "        601, 605, 601, 387, 415, \n",
    "        470, 480, 485, 352, \n",
    "        485, 478, 472, 486, \n",
    "        600, 605, 601, 600 \n",
    "    ]\n",
    "}\n",
    "\n",
    "df = pd.DataFrame(data)\n",
    "\n",
    "\n",
    "df_clean = df.dropna(subset=[\n",
    "    'Average Score (SAT Math)', \n",
    "    'Average Score (SAT Reading)', \n",
    "    'Average Score (SAT Writing)'\n",
    "])\n",
    "\n",
    "\n",
    "df_grouped = df_clean.groupby('Borough').mean().reset_index()\n",
    "\n",
    "\n",
    "ax = df_grouped.plot.bar(x='Borough', y=[\n",
    "    'Average Score (SAT Math)', \n",
    "    'Average Score (SAT Reading)', \n",
    "    'Average Score (SAT Writing)'\n",
    "], figsize=(10, 6))\n",
    "\n",
    "\n"
   ]
  },
  {
   "cell_type": "code",
   "execution_count": null,
   "id": "315f4fff-2d2f-4515-b84b-d206fd17afc2",
   "metadata": {},
   "outputs": [],
   "source": []
  }
 ],
 "metadata": {
  "kernelspec": {
   "display_name": "Python 3 (ipykernel)",
   "language": "python",
   "name": "python3"
  },
  "language_info": {
   "codemirror_mode": {
    "name": "ipython",
    "version": 3
   },
   "file_extension": ".py",
   "mimetype": "text/x-python",
   "name": "python",
   "nbconvert_exporter": "python",
   "pygments_lexer": "ipython3",
   "version": "3.12.4"
  }
 },
 "nbformat": 4,
 "nbformat_minor": 5
}
