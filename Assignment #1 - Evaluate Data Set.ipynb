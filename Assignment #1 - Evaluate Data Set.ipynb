{
 "cells": [
  {
   "cell_type": "markdown",
   "id": "4256dc96",
   "metadata": {},
   "source": [
    "# Assignment #1: Evaluate Data Set\n",
    "\n",
    "In your first graded assignment for this course, you will find and evaluate a data set on a topic of your choosing. You will be given specific questions related to the data set, and you will also be tasked with importing the data from your data set into your Jupyter Notebook environment. \n",
    "\n",
    "## Choose a Broad Topic\n",
    "\n",
    "First, choose a topic of interest to you, such as a specific social issue, a political or cultural trend, a community, or a hobby or personal interest. Ideally, it should be something relatively broad that society or culture is having some sort of conversation about, or which many people think about on a regular basis. Possible examples might be:\n",
    "\n",
    "- Housing and rental prices in New York City\n",
    "- A popular genre of music\n",
    "- A sport\n",
    "- Food prices\n",
    "- Crime\n",
    "- Government spending\n",
    "- Popularity of movies or TV shows \n",
    "- Bestselling books\n",
    "\n",
    "## Find a Data Set\n",
    "\n",
    "Search for terms related to your topic on Google, both generally and by adding specific names of websites where data will commonly be found. The following websites are frequently places to find data sets, and it sometimes makes sense to both search directly on the site and to do regular Google searches with the site name:\n",
    "\n",
    "- [Google Data Set Search](https://datasetsearch.research.google.com/)\n",
    "- [GitHub](https://github.com/)\n",
    "- [Kaggle](https://www.kaggle.com/)\n",
    "- [Data.gov](https://www.data.gov/)\n",
    "\n",
    "For example, if your topic is bestselling books, you might try these searches on Google:\n",
    "\n",
    "- bestselling books data set\n",
    "- bestselling books data set kaggle\n",
    "- bestselling books data set github\n",
    "- bestselling books data set \n",
    "\n",
    "You're not likely to find bestselling books data on data.gov, but you might find a lot of info related to health, the economy, and demographics, since that's what the government is most concerned about."
   ]
  },
  {
   "cell_type": "markdown",
   "id": "1c1a8105",
   "metadata": {},
   "source": [
    "-----"
   ]
  },
  {
   "cell_type": "markdown",
   "id": "9be8caee",
   "metadata": {},
   "source": [
    "What is your topic? (Enter responses to questions like these in the cell provided below.)"
   ]
  },
  {
   "cell_type": "markdown",
   "id": "c9702a5b",
   "metadata": {},
   "source": [
    "cycling in nyc "
   ]
  },
  {
   "cell_type": "markdown",
   "id": "e2b8f153",
   "metadata": {},
   "source": [
    "What drew you to this topic, or why did you choose it?"
   ]
  },
  {
   "cell_type": "markdown",
   "id": "359d76a7",
   "metadata": {},
   "source": [
    "i like to ride my bike and it has become more popular recently with the addition of bike lanes. "
   ]
  },
  {
   "cell_type": "markdown",
   "id": "20048152",
   "metadata": {},
   "source": [
    "## Choose a Data Set\n",
    "\n",
    "Choose a data set to use for the rest of this assignment. The data set doesn't need to be perfect, but ideally it should interest you and be in one of the discussed formats (CSV, TSV, Excel, JSON, .txt). If the data is in another format, either reach out to me to ask about it or choose another data set for this assignment. You may want to look ahead to the rest of this assignment to make sure nothing about the data set will make it difficult to answer the questions or to import the data."
   ]
  },
  {
   "cell_type": "markdown",
   "id": "5e869d8d",
   "metadata": {},
   "source": [
    "What is the name of your data set? Or provide a one-sentence description."
   ]
  },
  {
   "cell_type": "markdown",
   "id": "2ddf052f",
   "metadata": {},
   "source": [
    "the data set is called bicycle counts and it measures the bicycle traffic at certain areas of the city "
   ]
  },
  {
   "cell_type": "markdown",
   "id": "dc525c3e",
   "metadata": {},
   "source": [
    "What is the URL of the page on which you found the data set? (Paste the full URL.)"
   ]
  },
  {
   "cell_type": "markdown",
   "id": "b7f6a2fa",
   "metadata": {},
   "source": [
    "https://data.cityofnewyork.us/Transportation/Bicycle-Counts/uczf-rk3c/about_data"
   ]
  },
  {
   "cell_type": "markdown",
   "id": "4d16c0fa",
   "metadata": {},
   "source": [
    "## Evaluation\n",
    "\n",
    "In this step, you will evaluate the data to the extent possible without using data science tools like Python or Pandas. You should download the data to your computer, and use both the data set itself as downloaded and the page you found it on to answer these questions. If you can't answer a question, write what you tried to do to answer it—don't give up right away, and try to think of other ways to answer the question. (In some cases, you can even contact the person who created the data set—if you do so, feel free to copy me on the email.)"
   ]
  },
  {
   "cell_type": "markdown",
   "id": "ba3a6174",
   "metadata": {},
   "source": [
    "What is the file format or file extension of the data set? Examples might be .csv (Comma Seperated Values), .tsv (Tab Separated Values), .xlsx (Excel workbook), .txt (plain text file), or JSON (JavaScript Object Notation)."
   ]
  },
  {
   "cell_type": "markdown",
   "id": "d17ed7a7",
   "metadata": {},
   "source": [
    "the file format is .xlsx"
   ]
  },
  {
   "cell_type": "markdown",
   "id": "6880764f",
   "metadata": {},
   "source": [
    "What is the size in megabytes (MB)or gigabytes (GB) of the data set?"
   ]
  },
  {
   "cell_type": "markdown",
   "id": "621b781a",
   "metadata": {},
   "source": [
    "the size of the file is 0.097 mb "
   ]
  },
  {
   "cell_type": "markdown",
   "id": "e8ba770e",
   "metadata": {},
   "source": [
    "How many columns or fields is the data set? (Columns or fields are different types of data—for example, a book dataset might have title, author, and year as columns.)"
   ]
  },
  {
   "cell_type": "markdown",
   "id": "41ed02fa",
   "metadata": {},
   "source": [
    "the data set has 5 columns "
   ]
  },
  {
   "cell_type": "markdown",
   "id": "747cbbcb",
   "metadata": {},
   "source": [
    "List out the columns in the data set. (You can put each column on a line, or you can separate the columns with commas.)"
   ]
  },
  {
   "cell_type": "markdown",
   "id": "a63d096c",
   "metadata": {},
   "source": [
    "countid, id, date, counts, status "
   ]
  },
  {
   "cell_type": "markdown",
   "id": "799b491b",
   "metadata": {},
   "source": [
    "How many rows is the data set? (To use the book data set example again, each row might represent one book.)"
   ]
  },
  {
   "cell_type": "markdown",
   "id": "05e6b9ae",
   "metadata": {},
   "source": [
    "5 "
   ]
  },
  {
   "cell_type": "markdown",
   "id": "9b82706b",
   "metadata": {},
   "source": [
    "What types of data appear in the data set? (You can use Python terms, like \"integer,\" \"float,\" \"boolean,\" \"string,\" or you can use other descriptive terms, like \"numeric data\" or \"text data.\" Try to be as comprehensive as possible in your answer."
   ]
  },
  {
   "cell_type": "markdown",
   "id": "bded6448",
   "metadata": {},
   "source": [
    "text data and integers "
   ]
  },
  {
   "cell_type": "markdown",
   "id": "ae154ab5",
   "metadata": {},
   "source": [
    "On initial inspection, does anything appear to be missing or wrong in the data set? (Don't spend too long on this.)"
   ]
  },
  {
   "cell_type": "markdown",
   "id": "89d2e870",
   "metadata": {},
   "source": [
    "no real data shown "
   ]
  },
  {
   "cell_type": "markdown",
   "id": "30d0ccf4",
   "metadata": {},
   "source": [
    "What kinds of questions could you answer with this data set? In answering this question, write at least one paragraph of at least 150 words."
   ]
  },
  {
   "cell_type": "markdown",
   "id": "ed19997b",
   "metadata": {},
   "source": [
    "there isnt any real data shown in the website listed. if there was any real data, you could see which months observed the most bicycle traffic. "
   ]
  },
  {
   "cell_type": "markdown",
   "id": "5fbbecb7",
   "metadata": {},
   "source": [
    "Do you see any issues or limitations with the data set? Alternatively, what do you wish was included in the data set that is not included? (Write at least one paragraph of at least 150 words.)"
   ]
  },
  {
   "cell_type": "markdown",
   "id": "e4ab6eff",
   "metadata": {},
   "source": []
  },
  {
   "cell_type": "markdown",
   "id": "18f10308",
   "metadata": {},
   "source": [
    "## Reading the Data in Python\n",
    "\n",
    "Using as many cells as you need in the rest of this notebook, load the data into Python. You will probably want to use Pandas to load the data. Some example code is provided for you below. \n",
    "\n",
    "To use the example code in a Jupyter Notebook on your computer, you will need to make sure your data set is in the same folder as your notebook, and that you get the filename *exactly* right, including the extension. Here is example code for a Jupyter Notebook—this is just to get you started, and you are responsible for getting this working, which may involve looking up how to import data using Python and Pandas on Google.\n",
    "\n",
    "```python\n",
    "import pandas\n",
    "\n",
    "df = pandas.read_csv('name_of_data_file.csv')\n",
    "\n",
    "df\n",
    "```\n",
    "\n",
    "If your data is in another format, you will need to use the Pandas function related to that format. For example, to import JSON:\n",
    "\n",
    "```python\n",
    "import pandas\n",
    "\n",
    "df = pandas.read_json('name_of_data_file.json')\n",
    "\n",
    "df\n",
    "```\n",
    "\n",
    "Use as much space as you need below to import the file into Pandas (as above). Make sure the dataframe (df) is shown as an output at the end.\n"
   ]
  },
  {
   "cell_type": "code",
   "execution_count": 7,
   "id": "96b0db41",
   "metadata": {},
   "outputs": [],
   "source": [
    "import pandas"
   ]
  },
  {
   "cell_type": "code",
   "execution_count": 9,
   "id": "5eb01ced",
   "metadata": {},
   "outputs": [
    {
     "ename": "FileNotFoundError",
     "evalue": "[Errno 2] No such file or directory: 'Data-Dictionary-Bicycle_Counts.xlsx'",
     "output_type": "error",
     "traceback": [
      "\u001b[0;31m---------------------------------------------------------------------------\u001b[0m",
      "\u001b[0;31mFileNotFoundError\u001b[0m                         Traceback (most recent call last)",
      "Cell \u001b[0;32mIn[9], line 1\u001b[0m\n\u001b[0;32m----> 1\u001b[0m df \u001b[38;5;241m=\u001b[39m pandas\u001b[38;5;241m.\u001b[39mread_excel(\u001b[38;5;124m'\u001b[39m\u001b[38;5;124mData-Dictionary-Bicycle_Counts.xlsx\u001b[39m\u001b[38;5;124m'\u001b[39m)\n\u001b[1;32m      3\u001b[0m df\n",
      "File \u001b[0;32m/opt/anaconda3/lib/python3.12/site-packages/pandas/io/excel/_base.py:495\u001b[0m, in \u001b[0;36mread_excel\u001b[0;34m(io, sheet_name, header, names, index_col, usecols, dtype, engine, converters, true_values, false_values, skiprows, nrows, na_values, keep_default_na, na_filter, verbose, parse_dates, date_parser, date_format, thousands, decimal, comment, skipfooter, storage_options, dtype_backend, engine_kwargs)\u001b[0m\n\u001b[1;32m    493\u001b[0m \u001b[38;5;28;01mif\u001b[39;00m \u001b[38;5;129;01mnot\u001b[39;00m \u001b[38;5;28misinstance\u001b[39m(io, ExcelFile):\n\u001b[1;32m    494\u001b[0m     should_close \u001b[38;5;241m=\u001b[39m \u001b[38;5;28;01mTrue\u001b[39;00m\n\u001b[0;32m--> 495\u001b[0m     io \u001b[38;5;241m=\u001b[39m ExcelFile(\n\u001b[1;32m    496\u001b[0m         io,\n\u001b[1;32m    497\u001b[0m         storage_options\u001b[38;5;241m=\u001b[39mstorage_options,\n\u001b[1;32m    498\u001b[0m         engine\u001b[38;5;241m=\u001b[39mengine,\n\u001b[1;32m    499\u001b[0m         engine_kwargs\u001b[38;5;241m=\u001b[39mengine_kwargs,\n\u001b[1;32m    500\u001b[0m     )\n\u001b[1;32m    501\u001b[0m \u001b[38;5;28;01melif\u001b[39;00m engine \u001b[38;5;129;01mand\u001b[39;00m engine \u001b[38;5;241m!=\u001b[39m io\u001b[38;5;241m.\u001b[39mengine:\n\u001b[1;32m    502\u001b[0m     \u001b[38;5;28;01mraise\u001b[39;00m \u001b[38;5;167;01mValueError\u001b[39;00m(\n\u001b[1;32m    503\u001b[0m         \u001b[38;5;124m\"\u001b[39m\u001b[38;5;124mEngine should not be specified when passing \u001b[39m\u001b[38;5;124m\"\u001b[39m\n\u001b[1;32m    504\u001b[0m         \u001b[38;5;124m\"\u001b[39m\u001b[38;5;124man ExcelFile - ExcelFile already has the engine set\u001b[39m\u001b[38;5;124m\"\u001b[39m\n\u001b[1;32m    505\u001b[0m     )\n",
      "File \u001b[0;32m/opt/anaconda3/lib/python3.12/site-packages/pandas/io/excel/_base.py:1550\u001b[0m, in \u001b[0;36mExcelFile.__init__\u001b[0;34m(self, path_or_buffer, engine, storage_options, engine_kwargs)\u001b[0m\n\u001b[1;32m   1548\u001b[0m     ext \u001b[38;5;241m=\u001b[39m \u001b[38;5;124m\"\u001b[39m\u001b[38;5;124mxls\u001b[39m\u001b[38;5;124m\"\u001b[39m\n\u001b[1;32m   1549\u001b[0m \u001b[38;5;28;01melse\u001b[39;00m:\n\u001b[0;32m-> 1550\u001b[0m     ext \u001b[38;5;241m=\u001b[39m inspect_excel_format(\n\u001b[1;32m   1551\u001b[0m         content_or_path\u001b[38;5;241m=\u001b[39mpath_or_buffer, storage_options\u001b[38;5;241m=\u001b[39mstorage_options\n\u001b[1;32m   1552\u001b[0m     )\n\u001b[1;32m   1553\u001b[0m     \u001b[38;5;28;01mif\u001b[39;00m ext \u001b[38;5;129;01mis\u001b[39;00m \u001b[38;5;28;01mNone\u001b[39;00m:\n\u001b[1;32m   1554\u001b[0m         \u001b[38;5;28;01mraise\u001b[39;00m \u001b[38;5;167;01mValueError\u001b[39;00m(\n\u001b[1;32m   1555\u001b[0m             \u001b[38;5;124m\"\u001b[39m\u001b[38;5;124mExcel file format cannot be determined, you must specify \u001b[39m\u001b[38;5;124m\"\u001b[39m\n\u001b[1;32m   1556\u001b[0m             \u001b[38;5;124m\"\u001b[39m\u001b[38;5;124man engine manually.\u001b[39m\u001b[38;5;124m\"\u001b[39m\n\u001b[1;32m   1557\u001b[0m         )\n",
      "File \u001b[0;32m/opt/anaconda3/lib/python3.12/site-packages/pandas/io/excel/_base.py:1402\u001b[0m, in \u001b[0;36minspect_excel_format\u001b[0;34m(content_or_path, storage_options)\u001b[0m\n\u001b[1;32m   1399\u001b[0m \u001b[38;5;28;01mif\u001b[39;00m \u001b[38;5;28misinstance\u001b[39m(content_or_path, \u001b[38;5;28mbytes\u001b[39m):\n\u001b[1;32m   1400\u001b[0m     content_or_path \u001b[38;5;241m=\u001b[39m BytesIO(content_or_path)\n\u001b[0;32m-> 1402\u001b[0m \u001b[38;5;28;01mwith\u001b[39;00m get_handle(\n\u001b[1;32m   1403\u001b[0m     content_or_path, \u001b[38;5;124m\"\u001b[39m\u001b[38;5;124mrb\u001b[39m\u001b[38;5;124m\"\u001b[39m, storage_options\u001b[38;5;241m=\u001b[39mstorage_options, is_text\u001b[38;5;241m=\u001b[39m\u001b[38;5;28;01mFalse\u001b[39;00m\n\u001b[1;32m   1404\u001b[0m ) \u001b[38;5;28;01mas\u001b[39;00m handle:\n\u001b[1;32m   1405\u001b[0m     stream \u001b[38;5;241m=\u001b[39m handle\u001b[38;5;241m.\u001b[39mhandle\n\u001b[1;32m   1406\u001b[0m     stream\u001b[38;5;241m.\u001b[39mseek(\u001b[38;5;241m0\u001b[39m)\n",
      "File \u001b[0;32m/opt/anaconda3/lib/python3.12/site-packages/pandas/io/common.py:882\u001b[0m, in \u001b[0;36mget_handle\u001b[0;34m(path_or_buf, mode, encoding, compression, memory_map, is_text, errors, storage_options)\u001b[0m\n\u001b[1;32m    873\u001b[0m         handle \u001b[38;5;241m=\u001b[39m \u001b[38;5;28mopen\u001b[39m(\n\u001b[1;32m    874\u001b[0m             handle,\n\u001b[1;32m    875\u001b[0m             ioargs\u001b[38;5;241m.\u001b[39mmode,\n\u001b[0;32m   (...)\u001b[0m\n\u001b[1;32m    878\u001b[0m             newline\u001b[38;5;241m=\u001b[39m\u001b[38;5;124m\"\u001b[39m\u001b[38;5;124m\"\u001b[39m,\n\u001b[1;32m    879\u001b[0m         )\n\u001b[1;32m    880\u001b[0m     \u001b[38;5;28;01melse\u001b[39;00m:\n\u001b[1;32m    881\u001b[0m         \u001b[38;5;66;03m# Binary mode\u001b[39;00m\n\u001b[0;32m--> 882\u001b[0m         handle \u001b[38;5;241m=\u001b[39m \u001b[38;5;28mopen\u001b[39m(handle, ioargs\u001b[38;5;241m.\u001b[39mmode)\n\u001b[1;32m    883\u001b[0m     handles\u001b[38;5;241m.\u001b[39mappend(handle)\n\u001b[1;32m    885\u001b[0m \u001b[38;5;66;03m# Convert BytesIO or file objects passed with an encoding\u001b[39;00m\n",
      "\u001b[0;31mFileNotFoundError\u001b[0m: [Errno 2] No such file or directory: 'Data-Dictionary-Bicycle_Counts.xlsx'"
     ]
    }
   ],
   "source": [
    "df = pandas.read_excel('Data-Dictionary-Bicycle_Counts.xlsx')\n",
    "\n",
    "df"
   ]
  }
 ],
 "metadata": {
  "kernelspec": {
   "display_name": "Python 3 (ipykernel)",
   "language": "python",
   "name": "python3"
  },
  "language_info": {
   "codemirror_mode": {
    "name": "ipython",
    "version": 3
   },
   "file_extension": ".py",
   "mimetype": "text/x-python",
   "name": "python",
   "nbconvert_exporter": "python",
   "pygments_lexer": "ipython3",
   "version": "3.12.4"
  }
 },
 "nbformat": 4,
 "nbformat_minor": 5
}
