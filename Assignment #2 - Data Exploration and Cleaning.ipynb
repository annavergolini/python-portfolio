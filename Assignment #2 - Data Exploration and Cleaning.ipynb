{
 "cells": [
  {
   "cell_type": "markdown",
   "id": "b93f4789",
   "metadata": {},
   "source": [
    "# Assignment #2: Data Exploration\n",
    "\n",
    "In this assignment, you will demonstrate your knowledge of the Python and Pandas skills we've learned so far. These include:\n",
    "\n",
    "- Getting an overview of your data\n",
    "- Extracting columns\n",
    "- Removing duplicates from your data\n",
    "- Creating a subset of your data by matching a string\n",
    "- Getting a random sample of your data\n",
    "- Sorting your data \n",
    "- Getting fundamental statistical information of a series, such as the mean and median\n",
    "\n",
    "You will not need to formulate or answer a research question for this assignment. You simply need to demonstrate your ability to perform specific operations on the data set you have selected. In the next assignment, your midterm, you will create a narrative exploration of the data using many of the same methods, but in such a way as to use narrative along with data analysis to answer a research question.\n",
    "\n",
    "You may use the data set you imported in assignment #1, or you may choose another data set. That means that you can reuse code you wrote in Assignment #1 to import the data.\n",
    "\n",
    "In the below notebook, I will ask for you to perform a task. Each task will be followed by one or more blank code cells. Use as many cells as you need to complete the task. If you know some other way to complete the task with Python and/or Pandas that is not the way we learned in class, that is also acceptable. Feel free to use Google searches to refresh your memory as to how to perform each task. You will also likely wish to consult the class notebooks, which can be found in [our class repository on GitHub](https://github.com/sha256rma/foundations-of-data-science).\n",
    "\n",
    "If your data set does not have a needed form of data for a task, write code that would perform the task if a column with that data existed, and provide an explanation as a comment or markdown cell.\n",
    "\n",
    "You may receive partial credit for some incomplete or incorrect answers. Please feel free to add comments about your thought process, which will make it more likely that you will receive partial credit.\n",
    "\n",
    "The last cell is a bonus. You will not be penalized for not attempting or completing it.\n",
    "\n",
    "-----"
   ]
  },
  {
   "cell_type": "markdown",
   "id": "2bfcd632",
   "metadata": {},
   "source": [
    "Import Pandas and read your data in as a data frame. Assign the data frame to a variable, such as `df`."
   ]
  },
  {
   "cell_type": "code",
   "execution_count": 34,
   "id": "b3239dfd-3890-4c44-abd2-736e4a2dc6b7",
   "metadata": {},
   "outputs": [],
   "source": [
    "import pandas as pd"
   ]
  },
  {
   "cell_type": "code",
   "execution_count": 38,
   "id": "977b7772-f414-4b8a-880c-ed5e481801fa",
   "metadata": {},
   "outputs": [],
   "source": [
    "df = pd.read_csv('NFLX.csv')"
   ]
  },
  {
   "cell_type": "markdown",
   "id": "a24891c9",
   "metadata": {},
   "source": [
    "Make the data frame visible by placing the data frame variable in a cell by itself."
   ]
  },
  {
   "cell_type": "code",
   "execution_count": 40,
   "id": "04e6df67-1e00-4de0-91de-1670faac78d5",
   "metadata": {},
   "outputs": [
    {
     "name": "stdout",
     "output_type": "stream",
     "text": [
      "            Date        Open        High         Low       Close   Adj Close  \\\n",
      "0     2002-05-23    1.156429    1.242857    1.145714    1.196429    1.196429   \n",
      "1     2002-05-24    1.214286    1.225000    1.197143    1.210000    1.210000   \n",
      "2     2002-05-28    1.213571    1.232143    1.157143    1.157143    1.157143   \n",
      "3     2002-05-29    1.164286    1.164286    1.085714    1.103571    1.103571   \n",
      "4     2002-05-30    1.107857    1.107857    1.071429    1.071429    1.071429   \n",
      "...          ...         ...         ...         ...         ...         ...   \n",
      "5417  2023-11-29  479.000000  480.989990  474.489990  477.190002  477.190002   \n",
      "5418  2023-11-30  475.309998  478.589996  470.420013  473.970001  473.970001   \n",
      "5419  2023-12-01  473.170013  475.230011  464.600006  465.739990  465.739990   \n",
      "5420  2023-12-04  460.989990  461.200012  451.200012  453.899994  453.899994   \n",
      "5421  2023-12-05  450.700012  456.390015  449.579987  455.149994  455.149994   \n",
      "\n",
      "         Volume  \n",
      "0     104790000  \n",
      "1      11104800  \n",
      "2       6609400  \n",
      "3       6757800  \n",
      "4      10154200  \n",
      "...         ...  \n",
      "5417    2855500  \n",
      "5418    4287300  \n",
      "5419    4338100  \n",
      "5420    5157700  \n",
      "5421    3261100  \n",
      "\n",
      "[5422 rows x 7 columns]\n"
     ]
    }
   ],
   "source": [
    "print(df)"
   ]
  },
  {
   "cell_type": "markdown",
   "id": "2bb0ff5d",
   "metadata": {},
   "source": [
    "What columns are in your data frame? Use a function or method that shows all the columns."
   ]
  },
  {
   "cell_type": "code",
   "execution_count": 42,
   "id": "eeaee6f1",
   "metadata": {},
   "outputs": [
    {
     "data": {
      "text/plain": [
       "Index(['Date', 'Open', 'High', 'Low', 'Close', 'Adj Close', 'Volume'], dtype='object')"
      ]
     },
     "execution_count": 42,
     "metadata": {},
     "output_type": "execute_result"
    }
   ],
   "source": [
    "df.columns"
   ]
  },
  {
   "cell_type": "markdown",
   "id": "b06c4738",
   "metadata": {},
   "source": [
    "Write Python code to output the number of rows in your data frame."
   ]
  },
  {
   "cell_type": "code",
   "execution_count": 44,
   "id": "6323742f",
   "metadata": {},
   "outputs": [
    {
     "data": {
      "text/plain": [
       "5422"
      ]
     },
     "execution_count": 44,
     "metadata": {},
     "output_type": "execute_result"
    }
   ],
   "source": [
    "len(df)"
   ]
  },
  {
   "cell_type": "markdown",
   "id": "e8644b85",
   "metadata": {},
   "source": [
    "Write code to output a column from your data frame as a series. (Extract a column.)"
   ]
  },
  {
   "cell_type": "code",
   "execution_count": 62,
   "id": "6ed1a654",
   "metadata": {},
   "outputs": [],
   "source": [
    "series_one = pd.Series(df['Open'])"
   ]
  },
  {
   "cell_type": "code",
   "execution_count": 66,
   "id": "da4ca19e",
   "metadata": {},
   "outputs": [
    {
     "name": "stdout",
     "output_type": "stream",
     "text": [
      "0         1.156429\n",
      "1         1.214286\n",
      "2         1.213571\n",
      "3         1.164286\n",
      "4         1.107857\n",
      "           ...    \n",
      "5417    479.000000\n",
      "5418    475.309998\n",
      "5419    473.170013\n",
      "5420    460.989990\n",
      "5421    450.700012\n",
      "Name: Open, Length: 5422, dtype: float64\n"
     ]
    }
   ],
   "source": [
    "print(series_one)"
   ]
  },
  {
   "cell_type": "markdown",
   "id": "af635ed6",
   "metadata": {},
   "source": [
    "### Read the example below to **count** duplicates based on specific columns (e.g., 'Name' and 'Age')\n",
    "\n",
    "Check duplicates based on 'Name' and 'Age' columns (modify the subset for your own columns):\n",
    "\n",
    "`duplicates_subset = df.duplicated(subset=['Name', 'Age'])`\n",
    "\n",
    "Count the number of duplicates in the subset:\n",
    "\n",
    "`num_duplicates_subset = duplicates_subset.sum()`\n",
    "\n",
    "Display no. of duplicate rows based on your column(s):\n",
    "\n",
    "`print(f\"\\nNumber of duplicate rows based on 'Name' and 'Age': {num_duplicates_subset}\")`\n"
   ]
  },
  {
   "cell_type": "markdown",
   "id": "d8b3bfe9",
   "metadata": {},
   "source": [
    "After reading the above, modify the code snippets to check for duplicate columns in your own data frame"
   ]
  },
  {
   "cell_type": "code",
   "execution_count": 68,
   "id": "8cf0f9d8",
   "metadata": {},
   "outputs": [],
   "source": [
    "duplicates_subset = df.duplicated(subset=['Open', 'Close'])"
   ]
  },
  {
   "cell_type": "code",
   "execution_count": 84,
   "id": "a6d1f7ef",
   "metadata": {},
   "outputs": [],
   "source": [
    "num_duplicates_subset = duplicates_subset.sum()"
   ]
  },
  {
   "cell_type": "code",
   "execution_count": 78,
   "id": "4d155faa",
   "metadata": {},
   "outputs": [
    {
     "name": "stdout",
     "output_type": "stream",
     "text": [
      "2\n"
     ]
    }
   ],
   "source": [
    "print(num_duplicates_subset)"
   ]
  },
  {
   "cell_type": "markdown",
   "id": "a2da032a",
   "metadata": {},
   "source": [
    "If any duplicates exist within a column, remove them with the `.drop_duplicates()` function"
   ]
  },
  {
   "cell_type": "code",
   "execution_count": 109,
   "id": "cc788657",
   "metadata": {},
   "outputs": [
    {
     "data": {
      "text/html": [
       "<div>\n",
       "<style scoped>\n",
       "    .dataframe tbody tr th:only-of-type {\n",
       "        vertical-align: middle;\n",
       "    }\n",
       "\n",
       "    .dataframe tbody tr th {\n",
       "        vertical-align: top;\n",
       "    }\n",
       "\n",
       "    .dataframe thead th {\n",
       "        text-align: right;\n",
       "    }\n",
       "</style>\n",
       "<table border=\"1\" class=\"dataframe\">\n",
       "  <thead>\n",
       "    <tr style=\"text-align: right;\">\n",
       "      <th></th>\n",
       "      <th>Date</th>\n",
       "      <th>Open</th>\n",
       "      <th>High</th>\n",
       "      <th>Low</th>\n",
       "      <th>Close</th>\n",
       "      <th>Adj Close</th>\n",
       "      <th>Volume</th>\n",
       "    </tr>\n",
       "  </thead>\n",
       "  <tbody>\n",
       "    <tr>\n",
       "      <th>0</th>\n",
       "      <td>2002-05-23</td>\n",
       "      <td>1.156429</td>\n",
       "      <td>1.242857</td>\n",
       "      <td>1.145714</td>\n",
       "      <td>1.196429</td>\n",
       "      <td>1.196429</td>\n",
       "      <td>104790000</td>\n",
       "    </tr>\n",
       "    <tr>\n",
       "      <th>1</th>\n",
       "      <td>2002-05-24</td>\n",
       "      <td>1.214286</td>\n",
       "      <td>1.225000</td>\n",
       "      <td>1.197143</td>\n",
       "      <td>1.210000</td>\n",
       "      <td>1.210000</td>\n",
       "      <td>11104800</td>\n",
       "    </tr>\n",
       "    <tr>\n",
       "      <th>2</th>\n",
       "      <td>2002-05-28</td>\n",
       "      <td>1.213571</td>\n",
       "      <td>1.232143</td>\n",
       "      <td>1.157143</td>\n",
       "      <td>1.157143</td>\n",
       "      <td>1.157143</td>\n",
       "      <td>6609400</td>\n",
       "    </tr>\n",
       "    <tr>\n",
       "      <th>3</th>\n",
       "      <td>2002-05-29</td>\n",
       "      <td>1.164286</td>\n",
       "      <td>1.164286</td>\n",
       "      <td>1.085714</td>\n",
       "      <td>1.103571</td>\n",
       "      <td>1.103571</td>\n",
       "      <td>6757800</td>\n",
       "    </tr>\n",
       "    <tr>\n",
       "      <th>4</th>\n",
       "      <td>2002-05-30</td>\n",
       "      <td>1.107857</td>\n",
       "      <td>1.107857</td>\n",
       "      <td>1.071429</td>\n",
       "      <td>1.071429</td>\n",
       "      <td>1.071429</td>\n",
       "      <td>10154200</td>\n",
       "    </tr>\n",
       "    <tr>\n",
       "      <th>...</th>\n",
       "      <td>...</td>\n",
       "      <td>...</td>\n",
       "      <td>...</td>\n",
       "      <td>...</td>\n",
       "      <td>...</td>\n",
       "      <td>...</td>\n",
       "      <td>...</td>\n",
       "    </tr>\n",
       "    <tr>\n",
       "      <th>5417</th>\n",
       "      <td>2023-11-29</td>\n",
       "      <td>479.000000</td>\n",
       "      <td>480.989990</td>\n",
       "      <td>474.489990</td>\n",
       "      <td>477.190002</td>\n",
       "      <td>477.190002</td>\n",
       "      <td>2855500</td>\n",
       "    </tr>\n",
       "    <tr>\n",
       "      <th>5418</th>\n",
       "      <td>2023-11-30</td>\n",
       "      <td>475.309998</td>\n",
       "      <td>478.589996</td>\n",
       "      <td>470.420013</td>\n",
       "      <td>473.970001</td>\n",
       "      <td>473.970001</td>\n",
       "      <td>4287300</td>\n",
       "    </tr>\n",
       "    <tr>\n",
       "      <th>5419</th>\n",
       "      <td>2023-12-01</td>\n",
       "      <td>473.170013</td>\n",
       "      <td>475.230011</td>\n",
       "      <td>464.600006</td>\n",
       "      <td>465.739990</td>\n",
       "      <td>465.739990</td>\n",
       "      <td>4338100</td>\n",
       "    </tr>\n",
       "    <tr>\n",
       "      <th>5420</th>\n",
       "      <td>2023-12-04</td>\n",
       "      <td>460.989990</td>\n",
       "      <td>461.200012</td>\n",
       "      <td>451.200012</td>\n",
       "      <td>453.899994</td>\n",
       "      <td>453.899994</td>\n",
       "      <td>5157700</td>\n",
       "    </tr>\n",
       "    <tr>\n",
       "      <th>5421</th>\n",
       "      <td>2023-12-05</td>\n",
       "      <td>450.700012</td>\n",
       "      <td>456.390015</td>\n",
       "      <td>449.579987</td>\n",
       "      <td>455.149994</td>\n",
       "      <td>455.149994</td>\n",
       "      <td>3261100</td>\n",
       "    </tr>\n",
       "  </tbody>\n",
       "</table>\n",
       "<p>5422 rows × 7 columns</p>\n",
       "</div>"
      ],
      "text/plain": [
       "            Date        Open        High         Low       Close   Adj Close  \\\n",
       "0     2002-05-23    1.156429    1.242857    1.145714    1.196429    1.196429   \n",
       "1     2002-05-24    1.214286    1.225000    1.197143    1.210000    1.210000   \n",
       "2     2002-05-28    1.213571    1.232143    1.157143    1.157143    1.157143   \n",
       "3     2002-05-29    1.164286    1.164286    1.085714    1.103571    1.103571   \n",
       "4     2002-05-30    1.107857    1.107857    1.071429    1.071429    1.071429   \n",
       "...          ...         ...         ...         ...         ...         ...   \n",
       "5417  2023-11-29  479.000000  480.989990  474.489990  477.190002  477.190002   \n",
       "5418  2023-11-30  475.309998  478.589996  470.420013  473.970001  473.970001   \n",
       "5419  2023-12-01  473.170013  475.230011  464.600006  465.739990  465.739990   \n",
       "5420  2023-12-04  460.989990  461.200012  451.200012  453.899994  453.899994   \n",
       "5421  2023-12-05  450.700012  456.390015  449.579987  455.149994  455.149994   \n",
       "\n",
       "         Volume  \n",
       "0     104790000  \n",
       "1      11104800  \n",
       "2       6609400  \n",
       "3       6757800  \n",
       "4      10154200  \n",
       "...         ...  \n",
       "5417    2855500  \n",
       "5418    4287300  \n",
       "5419    4338100  \n",
       "5420    5157700  \n",
       "5421    3261100  \n",
       "\n",
       "[5422 rows x 7 columns]"
      ]
     },
     "execution_count": 109,
     "metadata": {},
     "output_type": "execute_result"
    }
   ],
   "source": [
    "df.drop_duplicates(subset=['Date','Open','High','Low','Close','Adj Close', 'Volume'])"
   ]
  },
  {
   "cell_type": "markdown",
   "id": "75965556",
   "metadata": {},
   "source": [
    "Write Python code to output the number of rows in your data frame."
   ]
  },
  {
   "cell_type": "code",
   "execution_count": 94,
   "id": "069bb2fa",
   "metadata": {},
   "outputs": [
    {
     "data": {
      "text/plain": [
       "5422"
      ]
     },
     "execution_count": 94,
     "metadata": {},
     "output_type": "execute_result"
    }
   ],
   "source": [
    "len(df)"
   ]
  },
  {
   "cell_type": "markdown",
   "id": "4f728b70",
   "metadata": {},
   "source": [
    "Compare the new value with the first time you outputted the number of rows above. Is it more, less, or the same?"
   ]
  },
  {
   "cell_type": "markdown",
   "id": "10a47f50",
   "metadata": {},
   "source": [
    "Is the same"
   ]
  },
  {
   "cell_type": "markdown",
   "id": "1a9df537",
   "metadata": {},
   "source": [
    "Create a subset of the data that matches a specific string in a column. That is, extract all rows of the original data frame that contain a specific string in one of the columns. Save the resulting data frame to a variable. (Add more cells if needed)"
   ]
  },
  {
   "cell_type": "code",
   "execution_count": 120,
   "id": "b4e0a375",
   "metadata": {
    "scrolled": true
   },
   "outputs": [
    {
     "name": "stdout",
     "output_type": "stream",
     "text": [
      "            Date        Open        High         Low       Close   Adj Close  \\\n",
      "4938  2022-01-03  605.609985  609.989990  590.559998  597.369995  597.369995   \n",
      "4939  2022-01-04  599.909973  600.409973  581.599976  591.150024  591.150024   \n",
      "4940  2022-01-05  592.000000  592.840027  566.880005  567.520020  567.520020   \n",
      "4941  2022-01-06  554.340027  563.359985  542.010010  553.289978  553.289978   \n",
      "4942  2022-01-07  549.460022  553.429993  538.219971  541.059998  541.059998   \n",
      "...          ...         ...         ...         ...         ...         ...   \n",
      "5184  2022-12-23  296.179993  298.459991  291.910004  294.959991  294.959991   \n",
      "5185  2022-12-27  293.190002  293.570007  282.130005  284.170013  284.170013   \n",
      "5186  2022-12-28  281.920013  285.190002  273.410004  276.880005  276.880005   \n",
      "5187  2022-12-29  283.179993  295.500000  281.010010  291.119995  291.119995   \n",
      "5188  2022-12-30  285.529999  295.010010  283.220001  294.880005  294.880005   \n",
      "\n",
      "       Volume  \n",
      "4938  3067500  \n",
      "4939  4393100  \n",
      "4940  4148700  \n",
      "4941  5711800  \n",
      "4942  3382900  \n",
      "...       ...  \n",
      "5184  4251100  \n",
      "5185  5778100  \n",
      "5186  5964400  \n",
      "5187  9588500  \n",
      "5188  7566900  \n",
      "\n",
      "[251 rows x 7 columns]\n"
     ]
    }
   ],
   "source": [
    "specific_number ='2022' \n",
    "subset_df = df[df['Date'].str.contains(specific_number)]\n",
    "print (subset_df)"
   ]
  },
  {
   "cell_type": "markdown",
   "id": "8ce688ed",
   "metadata": {},
   "source": [
    "Output the length of the resulting data frame (the subset of your data for which the conditional was true)."
   ]
  },
  {
   "cell_type": "code",
   "execution_count": 126,
   "id": "bd2ab816",
   "metadata": {},
   "outputs": [
    {
     "data": {
      "text/plain": [
       "4"
      ]
     },
     "execution_count": 126,
     "metadata": {},
     "output_type": "execute_result"
    }
   ],
   "source": [
    "len('2022')"
   ]
  },
  {
   "cell_type": "markdown",
   "id": "ad96d460",
   "metadata": {},
   "source": [
    "Output the first ten rows of your data set, the last ten rows of your data set, and a random ten rows of your data set (a sample of your data)."
   ]
  },
  {
   "cell_type": "code",
   "execution_count": 128,
   "id": "1bf71cb0",
   "metadata": {},
   "outputs": [
    {
     "name": "stdout",
     "output_type": "stream",
     "text": [
      "         Date      Open      High       Low     Close  Adj Close     Volume\n",
      "0  2002-05-23  1.156429  1.242857  1.145714  1.196429   1.196429  104790000\n",
      "1  2002-05-24  1.214286  1.225000  1.197143  1.210000   1.210000   11104800\n",
      "2  2002-05-28  1.213571  1.232143  1.157143  1.157143   1.157143    6609400\n",
      "3  2002-05-29  1.164286  1.164286  1.085714  1.103571   1.103571    6757800\n",
      "4  2002-05-30  1.107857  1.107857  1.071429  1.071429   1.071429   10154200\n",
      "5  2002-05-31  1.078571  1.078571  1.071429  1.076429   1.076429    8464400\n",
      "6  2002-06-03  1.080000  1.149286  1.076429  1.128571   1.128571    3151400\n",
      "7  2002-06-04  1.135714  1.140000  1.110714  1.117857   1.117857    3105200\n",
      "8  2002-06-05  1.110714  1.159286  1.107143  1.147143   1.147143    1531600\n",
      "9  2002-06-06  1.150000  1.232143  1.148571  1.182143   1.182143    2305800\n"
     ]
    }
   ],
   "source": [
    "print(df.head(10))"
   ]
  },
  {
   "cell_type": "code",
   "execution_count": 130,
   "id": "59e6227f",
   "metadata": {},
   "outputs": [
    {
     "name": "stdout",
     "output_type": "stream",
     "text": [
      "            Date        Open        High         Low       Close   Adj Close  \\\n",
      "5412  2023-11-21  472.630005  477.019989  471.209991  474.950012  474.950012   \n",
      "5413  2023-11-22  476.799988  482.700012  476.559998  478.000000  478.000000   \n",
      "5414  2023-11-24  477.109985  480.399994  475.200012  479.559998  479.559998   \n",
      "5415  2023-11-27  479.029999  482.000000  475.350006  479.170013  479.170013   \n",
      "5416  2023-11-28  478.109985  480.500000  475.950012  479.000000  479.000000   \n",
      "5417  2023-11-29  479.000000  480.989990  474.489990  477.190002  477.190002   \n",
      "5418  2023-11-30  475.309998  478.589996  470.420013  473.970001  473.970001   \n",
      "5419  2023-12-01  473.170013  475.230011  464.600006  465.739990  465.739990   \n",
      "5420  2023-12-04  460.989990  461.200012  451.200012  453.899994  453.899994   \n",
      "5421  2023-12-05  450.700012  456.390015  449.579987  455.149994  455.149994   \n",
      "\n",
      "       Volume  \n",
      "5412  2997700  \n",
      "5413  2841600  \n",
      "5414  1404700  \n",
      "5415  3625900  \n",
      "5416  2890200  \n",
      "5417  2855500  \n",
      "5418  4287300  \n",
      "5419  4338100  \n",
      "5420  5157700  \n",
      "5421  3261100  \n"
     ]
    }
   ],
   "source": [
    "print(df.tail(10))"
   ]
  },
  {
   "cell_type": "code",
   "execution_count": 132,
   "id": "e3585e15",
   "metadata": {},
   "outputs": [
    {
     "name": "stdout",
     "output_type": "stream",
     "text": [
      "            Date        Open        High         Low       Close   Adj Close  \\\n",
      "4590  2020-08-17  484.190002  486.239990  479.100006  482.350006  482.350006   \n",
      "1494  2008-04-30    4.574286    4.631429    4.455714    4.568571    4.568571   \n",
      "1482  2008-04-14    5.142857    5.198571    5.064286    5.111429    5.111429   \n",
      "4229  2019-03-13  355.809998  362.480011  352.769989  361.209991  361.209991   \n",
      "5150  2022-11-04  272.019989  274.970001  255.320007  260.790009  260.790009   \n",
      "5407  2023-11-14  448.779999  454.079987  445.640015  448.649994  448.649994   \n",
      "3980  2018-03-15  323.170013  323.399994  318.140015  321.089996  321.089996   \n",
      "2407  2011-12-12    9.962857   10.975714    9.931429   10.751429   10.751429   \n",
      "86    2002-09-25    0.724286    0.750000    0.707857    0.732143    0.732143   \n",
      "3014  2014-05-14   49.578571   50.628571   49.437141   50.268570   50.268570   \n",
      "\n",
      "        Volume  \n",
      "4590   2423500  \n",
      "1494  10906000  \n",
      "1482   6811000  \n",
      "4229   6444100  \n",
      "5150  11124700  \n",
      "5407   4060900  \n",
      "3980   5642900  \n",
      "2407  93400300  \n",
      "86     1457400  \n",
      "3014  19891900  \n"
     ]
    }
   ],
   "source": [
    "print(df.sample(10))"
   ]
  },
  {
   "cell_type": "markdown",
   "id": "7e96f519",
   "metadata": {},
   "source": [
    "## Bonus\n",
    "\n",
    "You may want to refer to the [Pandas Cheat Sheet](https://pandas.pydata.org/Pandas_Cheat_Sheet.pdf)."
   ]
  },
  {
   "cell_type": "markdown",
   "id": "4c6d9319",
   "metadata": {},
   "source": [
    "Sort your data frame by a particular column and output the result."
   ]
  },
  {
   "cell_type": "code",
   "execution_count": 136,
   "id": "fab623b1",
   "metadata": {},
   "outputs": [
    {
     "name": "stdout",
     "output_type": "stream",
     "text": [
      "            Date        Open        High         Low       Close   Adj Close  \\\n",
      "97    2002-10-10    0.377857    0.525000    0.346429    0.506429    0.506429   \n",
      "96    2002-10-09    0.410000    0.410714    0.347143    0.372857    0.372857   \n",
      "95    2002-10-08    0.410714    0.427857    0.390714    0.405000    0.405000   \n",
      "94    2002-10-07    0.450000    0.458571    0.382143    0.412143    0.412143   \n",
      "99    2002-10-14    0.464286    0.535000    0.463571    0.534286    0.534286   \n",
      "...          ...         ...         ...         ...         ...         ...   \n",
      "4898  2021-11-04  685.890015  685.940002  665.500000  668.400024  668.400024   \n",
      "4895  2021-11-01  689.059998  689.969971  676.539978  681.169983  681.169983   \n",
      "4907  2021-11-17  690.000000  700.989990  686.090027  691.690002  691.690002   \n",
      "4908  2021-11-18  691.609985  691.739990  679.739990  682.020020  682.020020   \n",
      "4909  2021-11-19  692.349976  694.159973  675.000000  678.799988  678.799988   \n",
      "\n",
      "        Volume  \n",
      "97    13577200  \n",
      "96     5982200  \n",
      "95     4531800  \n",
      "94    15724800  \n",
      "99     5272400  \n",
      "...        ...  \n",
      "4898   4865000  \n",
      "4895   3110900  \n",
      "4907   2732800  \n",
      "4908   2012900  \n",
      "4909   2613700  \n",
      "\n",
      "[5422 rows x 7 columns]\n"
     ]
    }
   ],
   "source": [
    "sorted_df =df.sort_values(by='Open')\n",
    "print(sorted_df)"
   ]
  },
  {
   "cell_type": "code",
   "execution_count": null,
   "id": "2797159d",
   "metadata": {},
   "outputs": [],
   "source": []
  },
  {
   "cell_type": "markdown",
   "id": "4cbd44ef",
   "metadata": {},
   "source": [
    "Pick a column in your data set with numeric data (integers or floats). Output the mean (average) and median of that column."
   ]
  },
  {
   "cell_type": "code",
   "execution_count": 140,
   "id": "5fcd45c6",
   "metadata": {},
   "outputs": [
    {
     "name": "stdout",
     "output_type": "stream",
     "text": [
      "mean of open: 131.30405712689046\n",
      "median of open: 33.700714\n"
     ]
    }
   ],
   "source": [
    "mean_open=df['Open'].mean()\n",
    "median_open=df['Open'].median()\n",
    "\n",
    "print(\"mean of open:\", mean_open)\n",
    "print(\"median of open:\", median_open)"
   ]
  }
 ],
 "metadata": {
  "kernelspec": {
   "display_name": "Python 3 (ipykernel)",
   "language": "python",
   "name": "python3"
  },
  "language_info": {
   "codemirror_mode": {
    "name": "ipython",
    "version": 3
   },
   "file_extension": ".py",
   "mimetype": "text/x-python",
   "name": "python",
   "nbconvert_exporter": "python",
   "pygments_lexer": "ipython3",
   "version": "3.12.4"
  }
 },
 "nbformat": 4,
 "nbformat_minor": 5
}
