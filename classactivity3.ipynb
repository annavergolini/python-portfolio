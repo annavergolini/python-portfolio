{
 "cells": [
  {
   "cell_type": "markdown",
   "id": "db749cd6-57e5-44ee-b9ab-62bcc8c692c9",
   "metadata": {},
   "source": [
    "https://pudding.cool/2023/10/genre/"
   ]
  },
  {
   "cell_type": "markdown",
   "id": "13bad7d1-b2de-4286-af23-30fbba811181",
   "metadata": {},
   "source": [
    "## Spotyfy tracks, over 6.000 genres -- everything from \"rock\" to \"stomp-and-holler\". \"Here is why it's cool\""
   ]
  },
  {
   "cell_type": "markdown",
   "id": "7f973ce3-b2a5-4550-99b2-82eb22fb6a6c",
   "metadata": {},
   "source": [
    "This project was looking into the top most listen genre of music in spotify and to see if there are differences in the trends of the music over the past years and what couse the changes."
   ]
  },
  {
   "cell_type": "code",
   "execution_count": null,
   "id": "7d064e4d-89e2-4e48-8148-5d40d27b9de4",
   "metadata": {},
   "outputs": [],
   "source": []
  }
 ],
 "metadata": {
  "kernelspec": {
   "display_name": "Python 3 (ipykernel)",
   "language": "python",
   "name": "python3"
  },
  "language_info": {
   "codemirror_mode": {
    "name": "ipython",
    "version": 3
   },
   "file_extension": ".py",
   "mimetype": "text/x-python",
   "name": "python",
   "nbconvert_exporter": "python",
   "pygments_lexer": "ipython3",
   "version": "3.12.4"
  }
 },
 "nbformat": 4,
 "nbformat_minor": 5
}
